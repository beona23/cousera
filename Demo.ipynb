{
    "cells": [
        {
            "cell_type": "markdown",
            "metadata": {},
            "source": "# tester notebook"
        },
        {
            "cell_type": "code",
            "execution_count": 1,
            "metadata": {},
            "outputs": [
                {
                    "name": "stdout",
                    "output_type": "stream",
                    "text": "+------------------+-------+                                        (0 + 1) / 1]\n|           AirBags|   Type|\n+------------------+-------+\n|              None|  Small|\n|Driver & Passenger|Midsize|\n|       Driver only|Compact|\n|Driver & Passenger|Midsize|\n|       Driver only|Midsize|\n+------------------+-------+\nonly showing top 5 rows\n\n"
                },
                {
                    "data": {
                        "text/plain": "configurationName = os_32a9504a408249938234885bfa9ec285_configs\ncos = com.ibm.ibmos2spark.CloudObjectStorage@3b16f1b2\nspark = org.apache.spark.sql.SparkSession@e4ea6e21\ndfData1 = [AirBags: string, Type: string]\n"
                    },
                    "metadata": {},
                    "output_type": "display_data"
                },
                {
                    "data": {
                        "text/plain": "getCredentials: ()scala.collection.mutable.HashMap[String,String]\n"
                    },
                    "metadata": {},
                    "output_type": "display_data"
                },
                {
                    "data": {
                        "text/plain": "[AirBags: string, Type: string]"
                    },
                    "execution_count": 1,
                    "metadata": {},
                    "output_type": "execute_result"
                }
            ],
            "source": "// The code was removed by Watson Studio for sharing."
        },
        {
            "cell_type": "code",
            "execution_count": null,
            "metadata": {},
            "outputs": [],
            "source": ""
        }
    ],
    "metadata": {
        "kernelspec": {
            "display_name": "Scala 2.12 with Spark",
            "language": "scala",
            "name": "scala"
        },
        "language_info": {
            "codemirror_mode": "text/x-scala",
            "file_extension": ".scala",
            "mimetype": "text/x-scala",
            "name": "scala",
            "pygments_lexer": "scala",
            "version": "2.12.12"
        }
    },
    "nbformat": 4,
    "nbformat_minor": 1
}